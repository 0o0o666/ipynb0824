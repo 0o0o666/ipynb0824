{
 "cells": [
  {
   "cell_type": "code",
   "execution_count": 20,
   "metadata": {},
   "outputs": [
    {
     "name": "stdout",
     "output_type": "stream",
     "text": [
      "Requirement already satisfied: pymysql in c:\\users\\user\\appdata\\local\\programs\\python\\python312\\lib\\site-packages (1.1.1)\n",
      "Note: you may need to restart the kernel to use updated packages.\n"
     ]
    },
    {
     "name": "stderr",
     "output_type": "stream",
     "text": [
      "\n",
      "[notice] A new release of pip is available: 24.0 -> 24.2\n",
      "[notice] To update, run: python.exe -m pip install --upgrade pip\n"
     ]
    }
   ],
   "source": [
    "#pip install pymysql"
   ]
  },
  {
   "cell_type": "code",
   "execution_count": 2,
   "metadata": {},
   "outputs": [
    {
     "data": {
      "text/plain": [
       "'1.4.6'"
      ]
     },
     "execution_count": 2,
     "metadata": {},
     "output_type": "execute_result"
    }
   ],
   "source": [
    "import pymysql\n",
    "\n",
    "pymysql.__version__"
   ]
  },
  {
   "cell_type": "markdown",
   "metadata": {},
   "source": [
    "# 連結mysql"
   ]
  },
  {
   "cell_type": "code",
   "execution_count": 91,
   "metadata": {},
   "outputs": [
    {
     "data": {
      "text/plain": [
       "<pymysql.connections.Connection at 0x1707372cf80>"
      ]
     },
     "execution_count": 91,
     "metadata": {},
     "output_type": "execute_result"
    }
   ],
   "source": [
    "connect = pymysql.connect(\n",
    "    user=\"root\",\n",
    "    password=\"12345678\",\n",
    "    host=\"127.0.0.1\",\n",
    "    database=\"shop\",\n",
    "    port=3306\n",
    ")\n",
    "connect"
   ]
  },
  {
   "cell_type": "code",
   "execution_count": 92,
   "metadata": {},
   "outputs": [
    {
     "data": {
      "text/plain": [
       "<pymysql.cursors.Cursor at 0x17073c39c10>"
      ]
     },
     "execution_count": 92,
     "metadata": {},
     "output_type": "execute_result"
    }
   ],
   "source": [
    "cursor = connect.cursor()\n",
    "cursor"
   ]
  },
  {
   "cell_type": "markdown",
   "metadata": {},
   "source": [
    "### 查詢語法\n",
    "select from tablename"
   ]
  },
  {
   "cell_type": "code",
   "execution_count": 20,
   "metadata": {},
   "outputs": [
    {
     "data": {
      "text/plain": [
       "((1, '123456@gmail.com', '0912345678', '台北市信義區萬化路123巷42樓'),)"
      ]
     },
     "execution_count": 20,
     "metadata": {},
     "output_type": "execute_result"
    }
   ],
   "source": [
    "sqlstr = \"select id,email,phone,address from user where id=1;\"\n",
    "\n",
    "cursor.execute(sqlstr)\n",
    "users = cursor.fetchall()\n",
    "users"
   ]
  },
  {
   "cell_type": "markdown",
   "metadata": {},
   "source": [
    "註冊功能"
   ]
  },
  {
   "cell_type": "code",
   "execution_count": 21,
   "metadata": {},
   "outputs": [
    {
     "data": {
      "text/plain": [
       "\"insert into user(username,email,password,phone,address)     values('teee','teee@gmail.com','tee12345','0965485321','好好事艘呢呢艘少16號99樓')\""
      ]
     },
     "execution_count": 21,
     "metadata": {},
     "output_type": "execute_result"
    }
   ],
   "source": [
    " username = input(\"姓名\")\n",
    "email = input(\"Email\")\n",
    "password = input(\"密碼\")\n",
    "phone = input(\"手機號碼\")\n",
    "address = input(\"地址\")\n",
    "sqlstr = f\"insert into user(username,email,password,phone,address) \\\n",
    "    values('{username}','{email}','{password}','{phone}','{address}')\"\n",
    "sqlstr"
   ]
  },
  {
   "cell_type": "code",
   "execution_count": 22,
   "metadata": {},
   "outputs": [],
   "source": [
    "try:\n",
    "    cursor.execute(sqlstr)\n",
    "    connect.commit()\n",
    "except Exception as e:\n",
    "    print(\"寫入失敗\",e)"
   ]
  },
  {
   "cell_type": "markdown",
   "metadata": {},
   "source": [
    "### 進行登入"
   ]
  },
  {
   "cell_type": "code",
   "execution_count": 46,
   "metadata": {},
   "outputs": [
    {
     "data": {
      "text/plain": [
       "\"select * from user where email='123456@gmail.com' and password='12345678'\""
      ]
     },
     "execution_count": 46,
     "metadata": {},
     "output_type": "execute_result"
    }
   ],
   "source": [
    "email = input(\"Email\")\n",
    "password = input(\"密碼\")\n",
    "\n",
    "sqlstr = f\"select * from user where email='{email}' and password='{password}'\"\n",
    "sqlstr"
   ]
  },
  {
   "cell_type": "code",
   "execution_count": 47,
   "metadata": {},
   "outputs": [
    {
     "data": {
      "text/plain": [
       "(1,\n",
       " None,\n",
       " '12345678',\n",
       " '123456@gmail.com',\n",
       " '0912345678',\n",
       " '台北市信義區萬化路123巷42樓',\n",
       " datetime.datetime(2024, 8, 24, 10, 10, 55))"
      ]
     },
     "execution_count": 47,
     "metadata": {},
     "output_type": "execute_result"
    }
   ],
   "source": [
    "cursor.execute(sqlstr)\n",
    "user = cursor.fetchone()\n",
    "user"
   ]
  },
  {
   "cell_type": "code",
   "execution_count": 48,
   "metadata": {},
   "outputs": [
    {
     "name": "stdout",
     "output_type": "stream",
     "text": [
      "登入成功\n"
     ]
    }
   ],
   "source": [
    "if user is not None:\n",
    "    print(\"登入成功\")\n",
    "else:\n",
    "    print(\"登入失敗\")"
   ]
  },
  {
   "cell_type": "markdown",
   "metadata": {},
   "source": [
    "## 建立商品資料表(item)\n",
    "- id    - int(AI)\n",
    "- name  - varchar(100)  - uniqne\n",
    "- price - float\n",
    "- qty   - int   -default:1\n",
    "- info  - text  -可以為空"
   ]
  },
  {
   "cell_type": "markdown",
   "metadata": {},
   "source": [
    "### 商品列表"
   ]
  },
  {
   "cell_type": "markdown",
   "metadata": {},
   "source": []
  },
  {
   "cell_type": "code",
   "execution_count": 93,
   "metadata": {},
   "outputs": [
    {
     "data": {
      "text/plain": [
       "((1,\n",
       "  'macbook air 2023 pro\\r\\n',\n",
       "  35000.0,\n",
       "  3,\n",
       "  '256ssd 16g',\n",
       "  datetime.date(2024, 8, 24)),\n",
       " (2,\n",
       "  'apple iphone 15 pro ',\n",
       "  50000.0,\n",
       "  10,\n",
       "  '白色 512g',\n",
       "  datetime.date(2024, 8, 24)),\n",
       " (3, 'apple watch se', 9400.0, 0, 'GPS+行動網路', datetime.date(2024, 8, 24)),\n",
       " (4, 'AirPods 第二代', 8000.0, 20, '主動式降噪', datetime.date(2024, 8, 24)))"
      ]
     },
     "execution_count": 93,
     "metadata": {},
     "output_type": "execute_result"
    }
   ],
   "source": [
    "sqlstr=\"select * from item;\"\n",
    "\n",
    "cursor.execute(sqlstr)\n",
    "items=cursor.fetchall()\n",
    "items\n"
   ]
  },
  {
   "cell_type": "code",
   "execution_count": 94,
   "metadata": {},
   "outputs": [
    {
     "name": "stdout",
     "output_type": "stream",
     "text": [
      "--------------------------------------------------\n",
      "1.商品名稱macbook air 2023 pro\n",
      " 價格35000.0 數量3 備註256ssd 16g\n",
      "2.商品名稱apple iphone 15 pro  價格50000.0 數量10 備註白色 512g\n",
      "3.商品名稱apple watch se 價格9400.0 數量0 備註GPS+行動網路\n",
      "4.商品名稱AirPods 第二代 價格8000.0 數量20 備註主動式降噪\n",
      "----------------------------------------------------------------------------------------------------\n",
      "apple watch se無庫存\n",
      "--------------------------------------------------\n",
      "1.商品名稱macbook air 2023 pro\n",
      " 價格35000.0 數量3 備註256ssd 16g\n",
      "2.商品名稱apple iphone 15 pro  價格50000.0 數量10 備註白色 512g\n",
      "3.商品名稱apple watch se 價格9400.0 數量0 備註GPS+行動網路\n",
      "4.商品名稱AirPods 第二代 價格8000.0 數量20 備註主動式降噪\n",
      "----------------------------------------------------------------------------------------------------\n",
      "apple watch se無庫存\n",
      "--------------------------------------------------\n",
      "1.商品名稱macbook air 2023 pro\n",
      " 價格35000.0 數量3 備註256ssd 16g\n",
      "2.商品名稱apple iphone 15 pro  價格50000.0 數量10 備註白色 512g\n",
      "3.商品名稱apple watch se 價格9400.0 數量0 備註GPS+行動網路\n",
      "4.商品名稱AirPods 第二代 價格8000.0 數量20 備註主動式降噪\n",
      "----------------------------------------------------------------------------------------------------\n",
      "--------------------------------------------------\n",
      "1.商品名稱macbook air 2023 pro\n",
      " 價格35000.0 數量3 備註256ssd 16g\n",
      "2.商品名稱apple iphone 15 pro  價格50000.0 數量10 備註白色 512g\n",
      "3.商品名稱apple watch se 價格9400.0 數量0 備註GPS+行動網路\n",
      "4.商品名稱AirPods 第二代 價格8000.0 數量20 備註主動式降噪\n",
      "----------------------------------------------------------------------------------------------------\n",
      "完成購賣\n"
     ]
    }
   ],
   "source": [
    "cart=[]\n",
    "while True:\n",
    "    print(\"-\"*50)\n",
    "    for i,item in enumerate(items):\n",
    "        print(f\"{i+1}.商品名稱{item[1]} 價格{item[2]} 數量{item[3]} 備註{item[4]}\")\n",
    "    print(\"--\"*50)\n",
    "    choice=int(input(\"輸入編號(0=離開)\"))\n",
    "    if choice==0:\n",
    "        break\n",
    "\n",
    "    #數量<1 or >len(item)\n",
    "    if choice<1 or choice>len(items):\n",
    "        print(\"輸入不正確\")\n",
    "        continue\n",
    "    #數量小於1(無庫存)\n",
    "    if items[choice-1][3]<1:\n",
    "        print(f\"{items[choice-1][1]}無庫存\")\n",
    "        continue\n",
    "    #加入購物車\n",
    "    cart.append(items[choice-1])\n",
    "\n",
    "\n",
    "\n",
    "print(\"完成購賣\")"
   ]
  },
  {
   "cell_type": "code",
   "execution_count": null,
   "metadata": {},
   "outputs": [],
   "source": []
  },
  {
   "cell_type": "code",
   "execution_count": null,
   "metadata": {},
   "outputs": [],
   "source": []
  },
  {
   "cell_type": "code",
   "execution_count": null,
   "metadata": {},
   "outputs": [],
   "source": []
  },
  {
   "cell_type": "code",
   "execution_count": null,
   "metadata": {},
   "outputs": [],
   "source": []
  },
  {
   "cell_type": "code",
   "execution_count": null,
   "metadata": {},
   "outputs": [],
   "source": []
  },
  {
   "cell_type": "code",
   "execution_count": null,
   "metadata": {},
   "outputs": [],
   "source": []
  },
  {
   "cell_type": "code",
   "execution_count": 90,
   "metadata": {},
   "outputs": [],
   "source": [
    "connect.close()"
   ]
  }
 ],
 "metadata": {
  "kernelspec": {
   "display_name": "Python 3",
   "language": "python",
   "name": "python3"
  },
  "language_info": {
   "codemirror_mode": {
    "name": "ipython",
    "version": 3
   },
   "file_extension": ".py",
   "mimetype": "text/x-python",
   "name": "python",
   "nbconvert_exporter": "python",
   "pygments_lexer": "ipython3",
   "version": "3.12.3"
  }
 },
 "nbformat": 4,
 "nbformat_minor": 2
}
